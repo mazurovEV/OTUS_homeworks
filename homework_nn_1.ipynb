{
 "cells": [
  {
   "cell_type": "code",
   "execution_count": 189,
   "metadata": {
    "collapsed": false
   },
   "outputs": [],
   "source": [
    "from sklearn.datasets import make_moons\n",
    "from sklearn.model_selection import train_test_split\n",
    "from sklearn.preprocessing import StandardScaler\n",
    "from keras.utils import np_utils\n",
    "from keras.datasets import mnist\n",
    "from keras.models import Sequential\n",
    "from keras.layers import Dense\n",
    "import matplotlib.pyplot as plt\n",
    "%matplotlib inline\n",
    "from matplotlib.colors import ListedColormap"
   ]
  },
  {
   "cell_type": "code",
   "execution_count": 199,
   "metadata": {
    "collapsed": true
   },
   "outputs": [],
   "source": [
    "class NN2Hidden:\n",
    "    def __init__(self, layers_dim, input_dim, num_classes, batch_size, epochs):\n",
    "        self.batch_size = batch_size\n",
    "        self.epochs = epochs\n",
    "        \n",
    "        self.model = Sequential()\n",
    "        self.model.add(Dense(layers_dim, activation='relu', input_shape=(input_dim,)))\n",
    "        self.model.add(Dense(layers_dim, activation='relu'))\n",
    "        self.model.add(Dense(layers_dim, activation='relu'))\n",
    "        self.model.add(Dense(num_classes, activation='softmax'))\n",
    "        \n",
    "        self.model.compile(loss='binary_crossentropy', optimizer='adam', metrics=['accuracy'])\n",
    "\n",
    "    def fit(self, X, y, validation_data):\n",
    "        self.model.fit(X, y,\n",
    "          batch_size=self.batch_size, epochs=self.epochs,\n",
    "          verbose=1,\n",
    "          validation_data=validation_data)\n",
    "        return self\n",
    "        \n",
    "    def evaluate(self, X, y):\n",
    "        return self.model.evaluate(X, y, verbose=1)\n",
    "        \n",
    "    def predict_classes(self, X):\n",
    "        return self.model.predict_classes(X)"
   ]
  },
  {
   "cell_type": "code",
   "execution_count": 200,
   "metadata": {
    "collapsed": false
   },
   "outputs": [],
   "source": [
    "#MNIST\n",
    "(X_train, y_train), (X_test, y_test) = mnist.load_data()"
   ]
  },
  {
   "cell_type": "code",
   "execution_count": 201,
   "metadata": {
    "collapsed": false
   },
   "outputs": [],
   "source": [
    "#Уплощаем каждую картинку: 28*28=784\n",
    "X_train = X_train.reshape(X_train.shape[0], 784)\n",
    "X_test = X_test.reshape(X_test.shape[0], 784)\n",
    "X_train = X_train.astype('float32')\n",
    "X_test = X_test.astype('float32')\n",
    "\n",
    "#Чтобы значения были в интервале [0, 1]\n",
    "X_train = X_train/255\n",
    "X_test = X_test/255"
   ]
  },
  {
   "cell_type": "code",
   "execution_count": 202,
   "metadata": {
    "collapsed": false
   },
   "outputs": [],
   "source": [
    "#One-hot энкодим классы, чтобы каждому классу соответствовал массив (:, 10)\n",
    "y_train = np_utils.to_categorical(y_train, classes)\n",
    "y_test = np_utils.to_categorical(y_test, classes)"
   ]
  },
  {
   "cell_type": "code",
   "execution_count": 203,
   "metadata": {
    "collapsed": true
   },
   "outputs": [],
   "source": [
    "mnist_nn = NN2Hidden(512, 784, 10, 128, 4)"
   ]
  },
  {
   "cell_type": "code",
   "execution_count": 204,
   "metadata": {
    "collapsed": false
   },
   "outputs": [
    {
     "name": "stdout",
     "output_type": "stream",
     "text": [
      "Train on 60000 samples, validate on 10000 samples\n",
      "Epoch 1/4\n",
      "60000/60000 [==============================] - 8s - loss: 0.0369 - acc: 0.9873 - val_loss: 0.0215 - val_acc: 0.9927\n",
      "Epoch 2/4\n",
      "60000/60000 [==============================] - 8s - loss: 0.0158 - acc: 0.9947 - val_loss: 0.0155 - val_acc: 0.9946\n",
      "Epoch 3/4\n",
      "60000/60000 [==============================] - 7s - loss: 0.0110 - acc: 0.9962 - val_loss: 0.0159 - val_acc: 0.9947\n",
      "Epoch 4/4\n",
      "60000/60000 [==============================] - 6s - loss: 0.0078 - acc: 0.9974 - val_loss: 0.0166 - val_acc: 0.9942\n"
     ]
    }
   ],
   "source": [
    "mnist_nn = mnist_nn.fit(X_train, y_train, (X_test, y_test))"
   ]
  },
  {
   "cell_type": "code",
   "execution_count": 205,
   "metadata": {
    "collapsed": false
   },
   "outputs": [
    {
     "name": "stdout",
     "output_type": "stream",
     "text": [
      " 9408/10000 [===========================>..] - ETA: 0s('Test score:', 0.016602871362931908)\n",
      "('Test accuracy:', 0.99423999881744385)\n"
     ]
    }
   ],
   "source": [
    "score = mnist_nn.evaluate(X_test, y_test)\n",
    "print('Test score:', score[0])\n",
    "print('Test accuracy:', score[1])"
   ]
  },
  {
   "cell_type": "code",
   "execution_count": 217,
   "metadata": {
    "collapsed": false
   },
   "outputs": [],
   "source": [
    "#make_moons\n",
    "X, y = make_moons(n_samples=10000, noise=0.1, random_state=0)\n",
    "X = StandardScaler().fit_transform(X)\n",
    "X_train, X_test, y_train, y_test = train_test_split(X, y, test_size=.4, random_state=42)"
   ]
  },
  {
   "cell_type": "code",
   "execution_count": 218,
   "metadata": {
    "collapsed": true
   },
   "outputs": [],
   "source": [
    "y_train_cat = np_utils.to_categorical(y_train, 2)\n",
    "y_test_cat = np_utils.to_categorical(y_test, 2)"
   ]
  },
  {
   "cell_type": "code",
   "execution_count": 209,
   "metadata": {
    "collapsed": true
   },
   "outputs": [],
   "source": [
    "moons_nn = NN2Hidden(20, 2, 2, 1000, 25)"
   ]
  },
  {
   "cell_type": "code",
   "execution_count": 219,
   "metadata": {
    "collapsed": false
   },
   "outputs": [
    {
     "name": "stdout",
     "output_type": "stream",
     "text": [
      "Train on 6000 samples, validate on 4000 samples\n",
      "Epoch 1/25\n",
      "6000/6000 [==============================] - 0s - loss: 0.1853 - acc: 0.9167 - val_loss: 0.1889 - val_acc: 0.9195\n",
      "Epoch 2/25\n",
      "6000/6000 [==============================] - 0s - loss: 0.1785 - acc: 0.9190 - val_loss: 0.1820 - val_acc: 0.9230\n",
      "Epoch 3/25\n",
      "6000/6000 [==============================] - 0s - loss: 0.1714 - acc: 0.9227 - val_loss: 0.1748 - val_acc: 0.9268\n",
      "Epoch 4/25\n",
      "6000/6000 [==============================] - 0s - loss: 0.1641 - acc: 0.9278 - val_loss: 0.1672 - val_acc: 0.9300\n",
      "Epoch 5/25\n",
      "6000/6000 [==============================] - 0s - loss: 0.1563 - acc: 0.9328 - val_loss: 0.1594 - val_acc: 0.9338\n",
      "Epoch 6/25\n",
      "6000/6000 [==============================] - 0s - loss: 0.1484 - acc: 0.9385 - val_loss: 0.1514 - val_acc: 0.9375\n",
      "Epoch 7/25\n",
      "6000/6000 [==============================] - 0s - loss: 0.1402 - acc: 0.9428 - val_loss: 0.1430 - val_acc: 0.9417\n",
      "Epoch 8/25\n",
      "6000/6000 [==============================] - 0s - loss: 0.1318 - acc: 0.9475 - val_loss: 0.1344 - val_acc: 0.9477\n",
      "Epoch 9/25\n",
      "6000/6000 [==============================] - 0s - loss: 0.1236 - acc: 0.9538 - val_loss: 0.1257 - val_acc: 0.9505\n",
      "Epoch 10/25\n",
      "6000/6000 [==============================] - 0s - loss: 0.1152 - acc: 0.9587 - val_loss: 0.1171 - val_acc: 0.9545\n",
      "Epoch 11/25\n",
      "6000/6000 [==============================] - 0s - loss: 0.1069 - acc: 0.9630 - val_loss: 0.1086 - val_acc: 0.9600\n",
      "Epoch 12/25\n",
      "6000/6000 [==============================] - 0s - loss: 0.0989 - acc: 0.9685 - val_loss: 0.1002 - val_acc: 0.9653\n",
      "Epoch 13/25\n",
      "6000/6000 [==============================] - 0s - loss: 0.0911 - acc: 0.9727 - val_loss: 0.0923 - val_acc: 0.9675\n",
      "Epoch 14/25\n",
      "6000/6000 [==============================] - 0s - loss: 0.0837 - acc: 0.9752 - val_loss: 0.0846 - val_acc: 0.9725\n",
      "Epoch 15/25\n",
      "6000/6000 [==============================] - 0s - loss: 0.0768 - acc: 0.9785 - val_loss: 0.0775 - val_acc: 0.9758\n",
      "Epoch 16/25\n",
      "6000/6000 [==============================] - 0s - loss: 0.0702 - acc: 0.9803 - val_loss: 0.0708 - val_acc: 0.9807\n",
      "Epoch 17/25\n",
      "6000/6000 [==============================] - 0s - loss: 0.0642 - acc: 0.9837 - val_loss: 0.0646 - val_acc: 0.9843\n",
      "Epoch 18/25\n",
      "6000/6000 [==============================] - 0s - loss: 0.0586 - acc: 0.9863 - val_loss: 0.0589 - val_acc: 0.9858\n",
      "Epoch 19/25\n",
      "6000/6000 [==============================] - 0s - loss: 0.0534 - acc: 0.9873 - val_loss: 0.0536 - val_acc: 0.9873\n",
      "Epoch 20/25\n",
      "6000/6000 [==============================] - 0s - loss: 0.0487 - acc: 0.9888 - val_loss: 0.0488 - val_acc: 0.9883\n",
      "Epoch 21/25\n",
      "6000/6000 [==============================] - 0s - loss: 0.0444 - acc: 0.9900 - val_loss: 0.0446 - val_acc: 0.9890\n",
      "Epoch 22/25\n",
      "6000/6000 [==============================] - 0s - loss: 0.0405 - acc: 0.9913 - val_loss: 0.0407 - val_acc: 0.9910\n",
      "Epoch 23/25\n",
      "6000/6000 [==============================] - 0s - loss: 0.0370 - acc: 0.9938 - val_loss: 0.0372 - val_acc: 0.9932\n",
      "Epoch 24/25\n",
      "6000/6000 [==============================] - 0s - loss: 0.0338 - acc: 0.9952 - val_loss: 0.0340 - val_acc: 0.9945\n",
      "Epoch 25/25\n",
      "6000/6000 [==============================] - 0s - loss: 0.0311 - acc: 0.9960 - val_loss: 0.0311 - val_acc: 0.9950\n"
     ]
    }
   ],
   "source": [
    "moons_nn = moons_nn.fit(X_train, y_train_cat, (X_test, y_test_cat))"
   ]
  },
  {
   "cell_type": "code",
   "execution_count": 222,
   "metadata": {
    "collapsed": false
   },
   "outputs": [
    {
     "name": "stdout",
     "output_type": "stream",
     "text": [
      " 997856/1000000 [============================>.] - ETA: 0s"
     ]
    },
    {
     "data": {
      "text/plain": [
       "(<matplotlib.figure.Figure at 0x13c0f4490>,\n",
       " <matplotlib.axes._subplots.AxesSubplot at 0x145fae310>)"
      ]
     },
     "execution_count": 222,
     "metadata": {},
     "output_type": "execute_result"
    },
    {
     "data": {
      "image/png": "[encoded data removed]",
      "text/plain": [
       "<matplotlib.figure.Figure at 0x13c0f4490>"
      ]
     },
     "metadata": {},
     "output_type": "display_data"
    }
   ],
   "source": [
    "plot_decision_boundary(X_test, y_test, moons_nn, cmap='RdBu')"
   ]
  },
  {
   "cell_type": "code",
   "execution_count": 221,
   "metadata": {
    "collapsed": true
   },
   "outputs": [],
   "source": [
    "def plot_decision_boundary(X, y, model, steps=1000, cmap='Paired'):\n",
    "    cmap = plt.get_cmap(cmap)\n",
    "\n",
    "    xmin, xmax = X[:,0].min() - 1, X[:,0].max() + 1\n",
    "    ymin, ymax = X[:,1].min() - 1, X[:,1].max() + 1\n",
    "    steps = 1000\n",
    "    x_span = np.linspace(xmin, xmax, steps)\n",
    "    y_span = np.linspace(ymin, ymax, steps)\n",
    "    xx, yy = np.meshgrid(x_span, y_span)\n",
    "\n",
    "    # Предсказываем значение для точек графика\n",
    "    labels = model.predict_classes(np.c_[xx.ravel(), yy.ravel()])\n",
    "\n",
    "    \n",
    "    z = labels.reshape(xx.shape)\n",
    "\n",
    "    fig, ax = plt.subplots()\n",
    "    ax.contourf(xx, yy, z, cmap=cmap, alpha=0.5)\n",
    "    ax.contour(xx, yy, z, levels=[0.5], color='black')\n",
    "\n",
    "    # Рисуем разделяющую поверхность\n",
    "    ax.scatter(X[:,0], X[:,1], c=y, cmap=cmap, lw=0)\n",
    "\n",
    "    return fig, ax"
   ]
  }
 ],
 "metadata": {
  "kernelspec": {
   "display_name": "Python 2",
   "language": "python",
   "name": "python2"
  },
  "language_info": {
   "codemirror_mode": {
    "name": "ipython",
    "version": 2
   },
   "file_extension": ".py",
   "mimetype": "text/x-python",
   "name": "python",
   "nbconvert_exporter": "python",
   "pygments_lexer": "ipython2",
   "version": "2.7.11"
  }
 },
 "nbformat": 4,
 "nbformat_minor": 2
}
