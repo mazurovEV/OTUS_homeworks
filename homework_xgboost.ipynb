{
 "cells": [
  {
   "cell_type": "code",
   "execution_count": 140,
   "metadata": {
    "collapsed": false
   },
   "outputs": [],
   "source": [
    "import time\n",
    "import re\n",
    "import math\n",
    "from __future__ import print_function\n",
    "from collections import defaultdict\n",
    "\n",
    "import pandas as pd\n",
    "import numpy as np\n",
    "import matplotlib\n",
    "import matplotlib.pyplot as plt\n",
    "import matplotlib.cm as cm\n",
    "import seaborn as sns\n",
    "\n",
    "from sklearn.ensemble import RandomForestRegressor\n",
    "from sklearn.model_selection import cross_validate, train_test_split\n",
    "from sklearn.base import BaseEstimator\n",
    "from sklearn.pipeline import make_union, make_pipeline\n",
    "from sklearn.preprocessing import FunctionTransformer, LabelBinarizer, OneHotEncoder\n",
    "from sklearn.feature_extraction import DictVectorizer\n",
    "from sklearn.feature_extraction.text import TfidfTransformer, CountVectorizer\n",
    "from scipy import sparse\n",
    "from sklearn.compose import ColumnTransformer\n",
    "from sklearn.impute import SimpleImputer\n",
    "from sklearn.metrics import r2_score, mean_squared_log_error, make_scorer\n",
    "\n",
    "\n",
    "\n",
    "# Ансамбли\n",
    "\n",
    "import xgboost as xgb\n",
    "\n",
    "%matplotlib inline\n",
    "plt.rcParams[\"figure.figsize\"] = (15, 8)\n",
    "pd.options.display.float_format = '{:.2f}'.format\n",
    "import warnings\n",
    "warnings.filterwarnings('ignore')"
   ]
  },
  {
   "cell_type": "code",
   "execution_count": 2,
   "metadata": {
    "collapsed": false
   },
   "outputs": [],
   "source": [
    "df = pd.read_csv('mercari/train.tsv', sep='\\t')"
   ]
  },
  {
   "cell_type": "code",
   "execution_count": 4,
   "metadata": {
    "collapsed": true
   },
   "outputs": [],
   "source": [
    "df.drop(['train_id'], axis=1, inplace=True)"
   ]
  },
  {
   "cell_type": "code",
   "execution_count": 5,
   "metadata": {
    "collapsed": true
   },
   "outputs": [],
   "source": [
    "df = df.sample(frac=0.15, random_state=1)"
   ]
  },
  {
   "cell_type": "code",
   "execution_count": 161,
   "metadata": {
    "collapsed": false
   },
   "outputs": [],
   "source": [
    "X_train, X_test, y_train, y_test = train_test_split(df.drop(['price'], axis=1), df['price'], test_size=0.25, random_state=42)"
   ]
  },
  {
   "cell_type": "code",
   "execution_count": 74,
   "metadata": {
    "collapsed": false
   },
   "outputs": [
    {
     "data": {
      "text/plain": [
       "<matplotlib.axes._subplots.AxesSubplot at 0x12bfa9c50>"
      ]
     },
     "execution_count": 74,
     "metadata": {},
     "output_type": "execute_result"
    },
    {
     "data": {
      "image/png": "[encoded data removed]",
      "text/plain": [
       "<matplotlib.figure.Figure at 0x12c077b10>"
      ]
     },
     "metadata": {},
     "output_type": "display_data"
    }
   ],
   "source": [
    "df.price.hist(bins=20)"
   ]
  },
  {
   "cell_type": "code",
   "execution_count": 73,
   "metadata": {
    "collapsed": false
   },
   "outputs": [
    {
     "data": {
      "text/plain": [
       "<matplotlib.axes._subplots.AxesSubplot at 0x12c198e50>"
      ]
     },
     "execution_count": 73,
     "metadata": {},
     "output_type": "execute_result"
    },
    {
     "data": {
      "image/png": "[encoded data removed]",
      "text/plain": [
       "<matplotlib.figure.Figure at 0x12c193750>"
      ]
     },
     "metadata": {},
     "output_type": "display_data"
    }
   ],
   "source": [
    "np.log(df.price + 1).hist(bins=20)"
   ]
  },
  {
   "cell_type": "code",
   "execution_count": 118,
   "metadata": {
    "collapsed": true
   },
   "outputs": [],
   "source": [
    "class CategoriesTransformer(BaseEstimator):\n",
    "  \n",
    "    def fit(self, X, y=None):\n",
    "        return self\n",
    "        \n",
    "    def transform(self, X):\n",
    "        X = X.copy()\n",
    "        X['category_name'].fillna(\"MISSING/MISSING/MISSING\", inplace=True)\n",
    "        X['cat_1'], X['cat_2'], X['cat_3'] = zip(*X['category_name'].apply(lambda x: x.split(\"/\")))\n",
    "        X.drop(['category_name'], inplace=True, axis=1)\n",
    "        return X\n",
    "    \n",
    "    def fit_transform(self, X, y=None):\n",
    "        return self.fit(X).transform(X)"
   ]
  },
  {
   "cell_type": "code",
   "execution_count": 119,
   "metadata": {
    "collapsed": true
   },
   "outputs": [],
   "source": [
    "class CountTransformer(BaseEstimator):\n",
    "    \n",
    "    def __init__(self, feature):\n",
    "        self.feature = feature\n",
    "  \n",
    "    def fit(self, X, y=None):\n",
    "        return self\n",
    "        \n",
    "    def transform(self, X):\n",
    "        X = X.copy()\n",
    "        X[self.feature].fillna(\"MISSING\", inplace=True)\n",
    "        feature_dict = X[self.feature].value_counts().to_dict()\n",
    "        X[self.feature + '_count'] = [feature_dict[f] for f in X[self.feature]]\n",
    "        X.drop([self.feature], inplace=True, axis=1)\n",
    "        return X\n",
    "        \n",
    "    def fit_transform(self, X, y=None):\n",
    "        return self.fit(X).transform(X)"
   ]
  },
  {
   "cell_type": "code",
   "execution_count": 120,
   "metadata": {
    "collapsed": true
   },
   "outputs": [],
   "source": [
    "categories_transformer = CategoriesTransformer()\n",
    "count_transformer = CountTransformer('brand_name')\n",
    "si = SimpleImputer(strategy='constant', fill_value='MISSING')\n",
    "ohe = OneHotEncoder(sparse=False, handle_unknown='ignore')"
   ]
  },
  {
   "cell_type": "code",
   "execution_count": 121,
   "metadata": {
    "collapsed": true
   },
   "outputs": [],
   "source": [
    "init_pipeline = make_pipeline(categories_transformer, count_transformer)\n",
    "cat_features_pipeline = make_pipeline(ohe)"
   ]
  },
  {
   "cell_type": "code",
   "execution_count": 122,
   "metadata": {
    "collapsed": true
   },
   "outputs": [],
   "source": [
    "def get_text_pipeline():\n",
    "    cv = CountVectorizer(min_df=10, stop_words='english', ngram_range=(1, 2), max_features=10000)\n",
    "    tfidf = TfidfTransformer()\n",
    "    return make_pipeline(cv, tfidf)"
   ]
  },
  {
   "cell_type": "code",
   "execution_count": 137,
   "metadata": {
    "collapsed": true
   },
   "outputs": [],
   "source": [
    "def rmsle_f(y_test, predictions):\n",
    "    return np.sqrt(mean_squared_log_error(y_test, predictions))\n",
    "\n",
    "rmsle = make_scorer(rmsle_f)"
   ]
  },
  {
   "cell_type": "code",
   "execution_count": 151,
   "metadata": {
    "collapsed": true
   },
   "outputs": [],
   "source": [
    "def randomForest(ct):\n",
    "    clf = RandomForestRegressor(n_estimators=100, max_features='sqrt', n_jobs=-1, max_depth=20)\n",
    "    pipeline = make_pipeline(init_pipeline, ct, clf)\n",
    "    cv_result = cross_validate(pipeline, X_train, y_train, cv=5, scoring=rmsle)\n",
    "    return np.mean(cv_result['test_score'])"
   ]
  },
  {
   "cell_type": "code",
   "execution_count": 153,
   "metadata": {
    "collapsed": false
   },
   "outputs": [
    {
     "name": "stdout",
     "output_type": "stream",
     "text": [
      "0.764469799131\n"
     ]
    }
   ],
   "source": [
    "#baseline - учим на всем\n",
    "transformers = [('ident', 'passthrough', ['shipping', 'brand_name_count']), \n",
    "                    ('cat', cat_features_pipeline, ['item_condition_id', 'cat_1', 'cat_2', 'cat_3']),\n",
    "                   ('name', get_text_pipeline(), 'name'),\n",
    "                   ('item_description', get_text_pipeline(), 'item_description')]\n",
    "\n",
    "ct = ColumnTransformer(transformers=transformers)\n",
    "print(randomForest(ct))"
   ]
  },
  {
   "cell_type": "code",
   "execution_count": 152,
   "metadata": {
    "collapsed": false
   },
   "outputs": [
    {
     "name": "stdout",
     "output_type": "stream",
     "text": [
      "0.748042282144\n"
     ]
    }
   ],
   "source": [
    "#Учим без текста\n",
    "transformers = [('ident', 'passthrough', ['shipping', 'brand_name_count']), \n",
    "                    ('cat', cat_features_pipeline, ['item_condition_id', 'cat_1', 'cat_2', 'cat_3'])]\n",
    "\n",
    "ct = ColumnTransformer(transformers=transformers)\n",
    "print(randomForest(ct))"
   ]
  },
  {
   "cell_type": "code",
   "execution_count": 154,
   "metadata": {
    "collapsed": true
   },
   "outputs": [],
   "source": [
    "def xgboost_rmsle(predictions, dmat):\n",
    "    labels = dmat.get_label()\n",
    "    diffs = np.log(predictions + 1) - np.log(labels + 1)\n",
    "    squared_diffs = np.square(diffs)\n",
    "    avg = np.mean(squared_diffs)\n",
    "    return ('RMSLE', np.sqrt(avg))"
   ]
  },
  {
   "cell_type": "code",
   "execution_count": 175,
   "metadata": {
    "collapsed": true
   },
   "outputs": [],
   "source": [
    "def xgboost(rounds, ct):\n",
    "    pipeline = make_pipeline(init_pipeline, ct)\n",
    "\n",
    "    dtrain = xgb.DMatrix(pipeline.fit_transform(X_train), label=y_train)\n",
    "    clf = xgb.XGBRegressor(\n",
    "                max_depth = 7,\n",
    "                learning_rate=0.1, \n",
    "                subsample=0.5,\n",
    "                n_jobs=-1,\n",
    "                colsample_bytree=0.5,\n",
    "                min_child_weight = 3)\n",
    "    xgb_param = clf.get_xgb_params()\n",
    "    return xgb.cv(xgb_param, dtrain, num_boost_round=rounds, feval=xgboost_rmsle, nfold=5)"
   ]
  },
  {
   "cell_type": "code",
   "execution_count": null,
   "metadata": {
    "collapsed": false
   },
   "outputs": [],
   "source": [
    "#XGBoost - лучшая модель\n",
    "transformers = [('ident', 'passthrough', ['shipping', 'brand_name_count']), \n",
    "                    ('cat', cat_features_pipeline, ['item_condition_id', 'cat_1', 'cat_2', 'cat_3']),\n",
    "                   ('name', get_text_pipeline(), 'name'),\n",
    "                   ('item_description', get_text_pipeline(), 'item_description')]\n",
    "\n",
    "ct = ColumnTransformer(transformers=transformers)\n",
    "cv = xgboost(150, ct)"
   ]
  },
  {
   "cell_type": "code",
   "execution_count": 179,
   "metadata": {
    "collapsed": false
   },
   "outputs": [
    {
     "name": "stdout",
     "output_type": "stream",
     "text": [
      "0.6603982\n"
     ]
    }
   ],
   "source": [
    "print(cv[\"test-RMSLE-mean\"][150])"
   ]
  },
  {
   "cell_type": "code",
   "execution_count": 171,
   "metadata": {
    "collapsed": false
   },
   "outputs": [
    {
     "name": "stdout",
     "output_type": "stream",
     "text": [
      "99   0.67\n",
      "Name: test-RMSLE-mean, dtype: float64\n"
     ]
    }
   ],
   "source": [
    "#XGBoost - без текста\n",
    "transformers = [('ident', 'passthrough', ['shipping', 'brand_name_count']), \n",
    "                    ('cat', cat_features_pipeline, ['item_condition_id', 'cat_1', 'cat_2', 'cat_3'])]\n",
    "\n",
    "ct = ColumnTransformer(transformers=transformers)\n",
    "print(xgboost(ct)[\"test-RMSLE-mean\"].tail(1))"
   ]
  },
  {
   "cell_type": "markdown",
   "metadata": {},
   "source": [
    "# Задание сделать\n",
    "1. Сделать baseline submission\n",
    "  * Исследовать признак price\n",
    "  * Исследовать признак price в зависимости от brand_name или других признаков\n",
    "2. Реализовать цикл анализа\n",
    "  * признаки -> модель -> настройка параметров -> лучшая модель и ее значение метрики качества на кросс-валидации\n",
    "3. Провести простые преобразования признаков и добавление простых признаков\n",
    "  * разделить category_name на уровни\n",
    "  * посмотреть на наличие числовых значений в описании и имени\n",
    "4. Составить план по применению нескольких моделей на разных признаках\n",
    "  * спроектируйте эксперимент. Нужно заранее спланировать порядок перебора признаков и моделей. Потом только писать код. Обратный порядок вызывает необходимость переписывать существующий код, это трата времени\n",
    "5. Просмотреть 1-5 kernel на kaggle. (только в таком порядке. сначала работаем самостоятельно, потом смотрим идеи других. при появлении опыта можно сразу начинать с них)\n",
    "6. Построить модель, выбрать лучшую\n",
    "7. Построить ансамбль, настрить парамертры. Сравнить с другими моделями.\n",
    "8. Оценить качество на CV."
   ]
  },
  {
   "cell_type": "code",
   "execution_count": null,
   "metadata": {
    "collapsed": true
   },
   "outputs": [],
   "source": []
  }
 ],
 "metadata": {
  "kernelspec": {
   "display_name": "Python 2",
   "language": "python",
   "name": "python2"
  },
  "language_info": {
   "codemirror_mode": {
    "name": "ipython",
    "version": 2
   },
   "file_extension": ".py",
   "mimetype": "text/x-python",
   "name": "python",
   "nbconvert_exporter": "python",
   "pygments_lexer": "ipython2",
   "version": "2.7.11"
  }
 },
 "nbformat": 4,
 "nbformat_minor": 2
}
